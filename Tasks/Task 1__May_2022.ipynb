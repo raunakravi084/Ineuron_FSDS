{
 "cells": [
  {
   "attachments": {},
   "cell_type": "raw",
   "id": "73ea4a97",
   "metadata": {},
   "source": [
    "s = \"this is My First Python programming class and i am learNING python string and its function\"\n",
    "1 . Try to extract data from index one to index 300 with a jump of 3 \n",
    "2. Try to reverse a string without using reverse function \n",
    "3. Try to split a string after conversion of entire string in uppercase \n",
    "4. try to convert the whole string into lower case \n",
    "5 . Try to capitalize the whole string \n",
    "6 . Write a diference between isalnum() and isalpha()\n",
    "7. Try to give an example of expand tab\n",
    "8 . Give an example of strip , lstrip and rstrip \n",
    "9.  Replace a string charecter by another charector by taking your own example \n",
    "\"sudhanshu\"\n",
    "10 . Try  to give a defination of string center function with and exmple \n",
    "11 . Write your own definition of compiler and interpretor without copy paste form internet in your own language\n",
    "12 . Python is a interpreted of compiled language give a clear ans with your understanding \n",
    "13 . Try to write a usecase of python with your understanding ."
   ]
  },
  {
   "cell_type": "code",
   "execution_count": 3,
   "id": "f75f8b0b",
   "metadata": {},
   "outputs": [],
   "source": [
    "s = \"this is My First Python programming class and i am learNING python string and its function\""
   ]
  },
  {
   "cell_type": "raw",
   "id": "bbe01329",
   "metadata": {},
   "source": [
    "1 . Try to extract data from index one to index 300 with a jump of 3"
   ]
  },
  {
   "cell_type": "code",
   "execution_count": 4,
   "id": "5da01783",
   "metadata": {},
   "outputs": [
    {
     "data": {
      "text/plain": [
       "'tssyityopgmncsa alrNph rgni ni'"
      ]
     },
     "execution_count": 4,
     "metadata": {},
     "output_type": "execute_result"
    }
   ],
   "source": [
    "s[0:300:3]"
   ]
  },
  {
   "cell_type": "raw",
   "id": "5de564b3",
   "metadata": {},
   "source": [
    "2. Try to reverse a string without using reverse function"
   ]
  },
  {
   "cell_type": "code",
   "execution_count": 5,
   "id": "dc14d031",
   "metadata": {},
   "outputs": [
    {
     "data": {
      "text/plain": [
       "'noitcnuf sti dna gnirts nohtyp GNINrael ma i dna ssalc gnimmargorp nohtyP tsriF yM si siht'"
      ]
     },
     "execution_count": 5,
     "metadata": {},
     "output_type": "execute_result"
    }
   ],
   "source": [
    "s[::-1]"
   ]
  },
  {
   "cell_type": "raw",
   "id": "391c83bd",
   "metadata": {},
   "source": [
    "3. Try to split a string after conversion of entire string in uppercase"
   ]
  },
  {
   "cell_type": "code",
   "execution_count": 8,
   "id": "c47cc465",
   "metadata": {},
   "outputs": [
    {
     "data": {
      "text/plain": [
       "['THIS',\n",
       " 'IS',\n",
       " 'MY',\n",
       " 'FIRST',\n",
       " 'PYTHON',\n",
       " 'PROGRAMMING',\n",
       " 'CLASS',\n",
       " 'AND',\n",
       " 'I',\n",
       " 'AM',\n",
       " 'LEARNING',\n",
       " 'PYTHON',\n",
       " 'STRING',\n",
       " 'AND',\n",
       " 'ITS',\n",
       " 'FUNCTION']"
      ]
     },
     "execution_count": 8,
     "metadata": {},
     "output_type": "execute_result"
    }
   ],
   "source": [
    "s_uper=s.upper()\n",
    "s_uper.split()"
   ]
  },
  {
   "cell_type": "raw",
   "id": "9c5da494",
   "metadata": {},
   "source": [
    "4. try to convert the whole string into lower case"
   ]
  },
  {
   "cell_type": "code",
   "execution_count": 9,
   "id": "079775c4",
   "metadata": {},
   "outputs": [
    {
     "data": {
      "text/plain": [
       "'this is my first python programming class and i am learning python string and its function'"
      ]
     },
     "execution_count": 9,
     "metadata": {},
     "output_type": "execute_result"
    }
   ],
   "source": [
    "s.lower()"
   ]
  },
  {
   "cell_type": "raw",
   "id": "9472e916",
   "metadata": {},
   "source": [
    "5 . Try to capitalize the whole string"
   ]
  },
  {
   "cell_type": "code",
   "execution_count": 10,
   "id": "38480ed4",
   "metadata": {},
   "outputs": [
    {
     "data": {
      "text/plain": [
       "'This is my first python programming class and i am learning python string and its function'"
      ]
     },
     "execution_count": 10,
     "metadata": {},
     "output_type": "execute_result"
    }
   ],
   "source": [
    "s.capitalize()"
   ]
  },
  {
   "cell_type": "raw",
   "id": "39c409a2",
   "metadata": {},
   "source": [
    "6 . Write a diference between isalnum() and isalpha()"
   ]
  },
  {
   "cell_type": "code",
   "execution_count": 11,
   "id": "8c88703d",
   "metadata": {},
   "outputs": [],
   "source": [
    "s1 = \"Ravi680\""
   ]
  },
  {
   "cell_type": "code",
   "execution_count": 15,
   "id": "dff11a1b",
   "metadata": {},
   "outputs": [
    {
     "data": {
      "text/plain": [
       "True"
      ]
     },
     "execution_count": 15,
     "metadata": {},
     "output_type": "execute_result"
    }
   ],
   "source": [
    "s1.isalnum() # True for either alphabetical or numerical data is present"
   ]
  },
  {
   "cell_type": "code",
   "execution_count": 16,
   "id": "5854ba2e",
   "metadata": {},
   "outputs": [
    {
     "data": {
      "text/plain": [
       "False"
      ]
     },
     "execution_count": 16,
     "metadata": {},
     "output_type": "execute_result"
    }
   ],
   "source": [
    "s1.isalpha() # True for only alphbatical data present"
   ]
  },
  {
   "cell_type": "raw",
   "id": "49c8b5fd",
   "metadata": {},
   "source": [
    "7. Try to give an example of expand tab"
   ]
  },
  {
   "cell_type": "code",
   "execution_count": 21,
   "id": "5ff48d5f",
   "metadata": {},
   "outputs": [],
   "source": [
    "s1=\"I\\tam\\tdeveloper\""
   ]
  },
  {
   "cell_type": "code",
   "execution_count": 22,
   "id": "63a4ab24",
   "metadata": {},
   "outputs": [
    {
     "data": {
      "text/plain": [
       "'I       am      developer'"
      ]
     },
     "execution_count": 22,
     "metadata": {},
     "output_type": "execute_result"
    }
   ],
   "source": [
    "s1.expandtabs()"
   ]
  },
  {
   "cell_type": "code",
   "execution_count": 23,
   "id": "8aedbc94",
   "metadata": {},
   "outputs": [
    {
     "data": {
      "text/plain": [
       "'xyzyu   12345   abc'"
      ]
     },
     "execution_count": 23,
     "metadata": {},
     "output_type": "execute_result"
    }
   ],
   "source": [
    "s = \"xyzyu\\t12345\\tabc\"\n",
    "s.expandtabs()"
   ]
  },
  {
   "cell_type": "raw",
   "id": "e2c54e93",
   "metadata": {},
   "source": [
    "8 . Give an example of strip , lstrip and rstrip "
   ]
  },
  {
   "cell_type": "code",
   "execution_count": 25,
   "id": "811e92c8",
   "metadata": {},
   "outputs": [],
   "source": [
    "s= \"       good         \""
   ]
  },
  {
   "cell_type": "code",
   "execution_count": 26,
   "id": "e989c1a1",
   "metadata": {},
   "outputs": [
    {
     "data": {
      "text/plain": [
       "'good'"
      ]
     },
     "execution_count": 26,
     "metadata": {},
     "output_type": "execute_result"
    }
   ],
   "source": [
    "s.strip()"
   ]
  },
  {
   "cell_type": "code",
   "execution_count": 27,
   "id": "371ed7ca",
   "metadata": {},
   "outputs": [
    {
     "data": {
      "text/plain": [
       "'good         '"
      ]
     },
     "execution_count": 27,
     "metadata": {},
     "output_type": "execute_result"
    }
   ],
   "source": [
    "s.lstrip()"
   ]
  },
  {
   "cell_type": "code",
   "execution_count": 28,
   "id": "28fffca9",
   "metadata": {},
   "outputs": [
    {
     "data": {
      "text/plain": [
       "'       good'"
      ]
     },
     "execution_count": 28,
     "metadata": {},
     "output_type": "execute_result"
    }
   ],
   "source": [
    "s.rstrip()"
   ]
  },
  {
   "cell_type": "raw",
   "id": "befe7182",
   "metadata": {},
   "source": [
    "9.  Replace a string charecter by another charector by taking your own example \n",
    "\"sudhanshu\""
   ]
  },
  {
   "cell_type": "code",
   "execution_count": 36,
   "id": "993e568b",
   "metadata": {},
   "outputs": [],
   "source": [
    "s= 'raunak ravi'"
   ]
  },
  {
   "cell_type": "code",
   "execution_count": 37,
   "id": "fd6e8878",
   "metadata": {},
   "outputs": [
    {
     "data": {
      "text/plain": [
       "'raunak raj'"
      ]
     },
     "execution_count": 37,
     "metadata": {},
     "output_type": "execute_result"
    }
   ],
   "source": [
    "s.replace('ravi','raj')"
   ]
  },
  {
   "cell_type": "raw",
   "id": "7aadd626",
   "metadata": {},
   "source": [
    "10 . Try  to give a defination of string center function with and exmple"
   ]
  },
  {
   "cell_type": "code",
   "execution_count": 40,
   "id": "6f335216",
   "metadata": {},
   "outputs": [
    {
     "data": {
      "text/plain": [
       "'****raunak ravi*****'"
      ]
     },
     "execution_count": 40,
     "metadata": {},
     "output_type": "execute_result"
    }
   ],
   "source": [
    "s.center(20,'*')"
   ]
  },
  {
   "cell_type": "raw",
   "id": "31134744",
   "metadata": {},
   "source": [
    "11 . Write your own definition of compiler and interpretor without copy paste form internet in your own language"
   ]
  },
  {
   "cell_type": "raw",
   "id": "8af1a6f0",
   "metadata": {},
   "source": [
    "Compiler: it is a program that translates the code written by person into a language recoginised by computer.\n",
    "    it translate the whole code at once. The code execution is fast as compared to interpreter.\n",
    "Interpreter: it is also a program that translates the code written by person in a language recoginised by computer,\n",
    "    but the difference is that it translates the each code line one by one, hence the code execution is slow, but \n",
    "    advantage is that it stops at that line where code is incorrect.\n"
   ]
  },
  {
   "cell_type": "markdown",
   "id": "f507ecf5",
   "metadata": {},
   "source": [
    "12 . Python is a interpreted of compiled language give a clear ans with your understanding "
   ]
  },
  {
   "cell_type": "raw",
   "id": "e96371e1",
   "metadata": {},
   "source": [
    "-python is compiled as well as interpreted language. in python to converts the high level language in to \n",
    "low level laguage the terms compiler cames in to the picture.\n",
    "-In python when we execute the program 1st the compiler converts the source code in to byte code and then interpreter converts \n",
    "the byte code in to machine level language.\n",
    "\n",
    "source code--->compiler--->byte code--->interpreter--->machine code\n",
    "                                        (Virtual \n",
    "                                        machine(PVM))\n",
    "-in python the process of execution is bit different because to make the program platform independence(we can write code once\n",
    "and can run in differenr platform).As the machine changes the cpu architecture also changes so if we are writting some code \n",
    "in one machine it may not be executed in other so to resolve this problem virtual machines converts the byte code in to machine\n",
    "code and make it platform indepndent.\n"
   ]
  },
  {
   "cell_type": "raw",
   "id": "ca5f7f6d",
   "metadata": {},
   "source": [
    "13 . Try to write a usecase of python with your understanding ."
   ]
  },
  {
   "cell_type": "raw",
   "id": "191a4914",
   "metadata": {},
   "source": [
    "ython is commonly used for :-\n",
    " \n",
    "          a) Developing websites and software\n",
    "          b) Task automation\n",
    "          c) Data analysis \n",
    "          d) data visualization.\n",
    "          e) and many more....\n"
   ]
  }
 ],
 "metadata": {
  "kernelspec": {
   "display_name": "Python 3 (ipykernel)",
   "language": "python",
   "name": "python3"
  },
  "language_info": {
   "codemirror_mode": {
    "name": "ipython",
    "version": 3
   },
   "file_extension": ".py",
   "mimetype": "text/x-python",
   "name": "python",
   "nbconvert_exporter": "python",
   "pygments_lexer": "ipython3",
   "version": "3.8.8"
  }
 },
 "nbformat": 4,
 "nbformat_minor": 5
}
